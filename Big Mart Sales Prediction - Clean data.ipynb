{
 "cells": [
  {
   "cell_type": "code",
   "execution_count": 1,
   "id": "a2c5dd31",
   "metadata": {},
   "outputs": [],
   "source": [
    "import numpy as np\n",
    "import pandas as pd\n",
    "import seaborn as sns\n",
    "import matplotlib.pyplot as plt"
   ]
  },
  {
   "cell_type": "code",
   "execution_count": 2,
   "id": "4192c105",
   "metadata": {},
   "outputs": [],
   "source": [
    "train = pd.read_csv('/Users/thientramvu/Documents/Data/PY20/Big Mart Sales/BigMartSales_TRAIN.csv')\n",
    "test = pd.read_csv('/Users/thientramvu/Documents/Data/PY20/Big Mart Sales/BigMartSales_TEST.csv')"
   ]
  },
  {
   "cell_type": "code",
   "execution_count": 3,
   "id": "3f46b8b9",
   "metadata": {},
   "outputs": [
    {
     "data": {
      "text/html": [
       "<div>\n",
       "<style scoped>\n",
       "    .dataframe tbody tr th:only-of-type {\n",
       "        vertical-align: middle;\n",
       "    }\n",
       "\n",
       "    .dataframe tbody tr th {\n",
       "        vertical-align: top;\n",
       "    }\n",
       "\n",
       "    .dataframe thead th {\n",
       "        text-align: right;\n",
       "    }\n",
       "</style>\n",
       "<table border=\"1\" class=\"dataframe\">\n",
       "  <thead>\n",
       "    <tr style=\"text-align: right;\">\n",
       "      <th></th>\n",
       "      <th>Item_Identifier</th>\n",
       "      <th>Item_Weight</th>\n",
       "      <th>Item_Fat_Content</th>\n",
       "      <th>Item_Visibility</th>\n",
       "      <th>Item_Type</th>\n",
       "      <th>Item_MRP</th>\n",
       "      <th>Outlet_Identifier</th>\n",
       "      <th>Outlet_Establishment_Year</th>\n",
       "      <th>Outlet_Size</th>\n",
       "      <th>Outlet_Location_Type</th>\n",
       "      <th>Outlet_Type</th>\n",
       "      <th>Item_Outlet_Sales</th>\n",
       "    </tr>\n",
       "  </thead>\n",
       "  <tbody>\n",
       "    <tr>\n",
       "      <th>0</th>\n",
       "      <td>FDA15</td>\n",
       "      <td>9.30</td>\n",
       "      <td>Low Fat</td>\n",
       "      <td>0.016047</td>\n",
       "      <td>Dairy</td>\n",
       "      <td>249.8092</td>\n",
       "      <td>OUT049</td>\n",
       "      <td>1999</td>\n",
       "      <td>Medium</td>\n",
       "      <td>Tier 1</td>\n",
       "      <td>Supermarket Type1</td>\n",
       "      <td>3735.1380</td>\n",
       "    </tr>\n",
       "    <tr>\n",
       "      <th>1</th>\n",
       "      <td>DRC01</td>\n",
       "      <td>5.92</td>\n",
       "      <td>Regular</td>\n",
       "      <td>0.019278</td>\n",
       "      <td>Soft Drinks</td>\n",
       "      <td>48.2692</td>\n",
       "      <td>OUT018</td>\n",
       "      <td>2009</td>\n",
       "      <td>Medium</td>\n",
       "      <td>Tier 3</td>\n",
       "      <td>Supermarket Type2</td>\n",
       "      <td>443.4228</td>\n",
       "    </tr>\n",
       "    <tr>\n",
       "      <th>2</th>\n",
       "      <td>FDN15</td>\n",
       "      <td>17.50</td>\n",
       "      <td>Low Fat</td>\n",
       "      <td>0.016760</td>\n",
       "      <td>Meat</td>\n",
       "      <td>141.6180</td>\n",
       "      <td>OUT049</td>\n",
       "      <td>1999</td>\n",
       "      <td>Medium</td>\n",
       "      <td>Tier 1</td>\n",
       "      <td>Supermarket Type1</td>\n",
       "      <td>2097.2700</td>\n",
       "    </tr>\n",
       "    <tr>\n",
       "      <th>3</th>\n",
       "      <td>FDX07</td>\n",
       "      <td>19.20</td>\n",
       "      <td>Regular</td>\n",
       "      <td>0.000000</td>\n",
       "      <td>Fruits and Vegetables</td>\n",
       "      <td>182.0950</td>\n",
       "      <td>OUT010</td>\n",
       "      <td>1998</td>\n",
       "      <td>NaN</td>\n",
       "      <td>Tier 3</td>\n",
       "      <td>Grocery Store</td>\n",
       "      <td>732.3800</td>\n",
       "    </tr>\n",
       "    <tr>\n",
       "      <th>4</th>\n",
       "      <td>NCD19</td>\n",
       "      <td>8.93</td>\n",
       "      <td>Low Fat</td>\n",
       "      <td>0.000000</td>\n",
       "      <td>Household</td>\n",
       "      <td>53.8614</td>\n",
       "      <td>OUT013</td>\n",
       "      <td>1987</td>\n",
       "      <td>High</td>\n",
       "      <td>Tier 3</td>\n",
       "      <td>Supermarket Type1</td>\n",
       "      <td>994.7052</td>\n",
       "    </tr>\n",
       "  </tbody>\n",
       "</table>\n",
       "</div>"
      ],
      "text/plain": [
       "  Item_Identifier  Item_Weight Item_Fat_Content  Item_Visibility  \\\n",
       "0           FDA15         9.30          Low Fat         0.016047   \n",
       "1           DRC01         5.92          Regular         0.019278   \n",
       "2           FDN15        17.50          Low Fat         0.016760   \n",
       "3           FDX07        19.20          Regular         0.000000   \n",
       "4           NCD19         8.93          Low Fat         0.000000   \n",
       "\n",
       "               Item_Type  Item_MRP Outlet_Identifier  \\\n",
       "0                  Dairy  249.8092            OUT049   \n",
       "1            Soft Drinks   48.2692            OUT018   \n",
       "2                   Meat  141.6180            OUT049   \n",
       "3  Fruits and Vegetables  182.0950            OUT010   \n",
       "4              Household   53.8614            OUT013   \n",
       "\n",
       "   Outlet_Establishment_Year Outlet_Size Outlet_Location_Type  \\\n",
       "0                       1999      Medium               Tier 1   \n",
       "1                       2009      Medium               Tier 3   \n",
       "2                       1999      Medium               Tier 1   \n",
       "3                       1998         NaN               Tier 3   \n",
       "4                       1987        High               Tier 3   \n",
       "\n",
       "         Outlet_Type  Item_Outlet_Sales  \n",
       "0  Supermarket Type1          3735.1380  \n",
       "1  Supermarket Type2           443.4228  \n",
       "2  Supermarket Type1          2097.2700  \n",
       "3      Grocery Store           732.3800  \n",
       "4  Supermarket Type1           994.7052  "
      ]
     },
     "execution_count": 3,
     "metadata": {},
     "output_type": "execute_result"
    }
   ],
   "source": [
    "train.head()"
   ]
  },
  {
   "cell_type": "code",
   "execution_count": 4,
   "id": "c2cab3f4",
   "metadata": {},
   "outputs": [
    {
     "data": {
      "text/html": [
       "<div>\n",
       "<style scoped>\n",
       "    .dataframe tbody tr th:only-of-type {\n",
       "        vertical-align: middle;\n",
       "    }\n",
       "\n",
       "    .dataframe tbody tr th {\n",
       "        vertical-align: top;\n",
       "    }\n",
       "\n",
       "    .dataframe thead th {\n",
       "        text-align: right;\n",
       "    }\n",
       "</style>\n",
       "<table border=\"1\" class=\"dataframe\">\n",
       "  <thead>\n",
       "    <tr style=\"text-align: right;\">\n",
       "      <th></th>\n",
       "      <th>Item_Identifier</th>\n",
       "      <th>Item_Weight</th>\n",
       "      <th>Item_Fat_Content</th>\n",
       "      <th>Item_Visibility</th>\n",
       "      <th>Item_Type</th>\n",
       "      <th>Item_MRP</th>\n",
       "      <th>Outlet_Identifier</th>\n",
       "      <th>Outlet_Establishment_Year</th>\n",
       "      <th>Outlet_Size</th>\n",
       "      <th>Outlet_Location_Type</th>\n",
       "      <th>Outlet_Type</th>\n",
       "    </tr>\n",
       "  </thead>\n",
       "  <tbody>\n",
       "    <tr>\n",
       "      <th>0</th>\n",
       "      <td>FDW58</td>\n",
       "      <td>20.750</td>\n",
       "      <td>Low Fat</td>\n",
       "      <td>0.007565</td>\n",
       "      <td>Snack Foods</td>\n",
       "      <td>107.8622</td>\n",
       "      <td>OUT049</td>\n",
       "      <td>1999</td>\n",
       "      <td>Medium</td>\n",
       "      <td>Tier 1</td>\n",
       "      <td>Supermarket Type1</td>\n",
       "    </tr>\n",
       "    <tr>\n",
       "      <th>1</th>\n",
       "      <td>FDW14</td>\n",
       "      <td>8.300</td>\n",
       "      <td>reg</td>\n",
       "      <td>0.038428</td>\n",
       "      <td>Dairy</td>\n",
       "      <td>87.3198</td>\n",
       "      <td>OUT017</td>\n",
       "      <td>2007</td>\n",
       "      <td>NaN</td>\n",
       "      <td>Tier 2</td>\n",
       "      <td>Supermarket Type1</td>\n",
       "    </tr>\n",
       "    <tr>\n",
       "      <th>2</th>\n",
       "      <td>NCN55</td>\n",
       "      <td>14.600</td>\n",
       "      <td>Low Fat</td>\n",
       "      <td>0.099575</td>\n",
       "      <td>Others</td>\n",
       "      <td>241.7538</td>\n",
       "      <td>OUT010</td>\n",
       "      <td>1998</td>\n",
       "      <td>NaN</td>\n",
       "      <td>Tier 3</td>\n",
       "      <td>Grocery Store</td>\n",
       "    </tr>\n",
       "    <tr>\n",
       "      <th>3</th>\n",
       "      <td>FDQ58</td>\n",
       "      <td>7.315</td>\n",
       "      <td>Low Fat</td>\n",
       "      <td>0.015388</td>\n",
       "      <td>Snack Foods</td>\n",
       "      <td>155.0340</td>\n",
       "      <td>OUT017</td>\n",
       "      <td>2007</td>\n",
       "      <td>NaN</td>\n",
       "      <td>Tier 2</td>\n",
       "      <td>Supermarket Type1</td>\n",
       "    </tr>\n",
       "    <tr>\n",
       "      <th>4</th>\n",
       "      <td>FDY38</td>\n",
       "      <td>NaN</td>\n",
       "      <td>Regular</td>\n",
       "      <td>0.118599</td>\n",
       "      <td>Dairy</td>\n",
       "      <td>234.2300</td>\n",
       "      <td>OUT027</td>\n",
       "      <td>1985</td>\n",
       "      <td>Medium</td>\n",
       "      <td>Tier 3</td>\n",
       "      <td>Supermarket Type3</td>\n",
       "    </tr>\n",
       "  </tbody>\n",
       "</table>\n",
       "</div>"
      ],
      "text/plain": [
       "  Item_Identifier  Item_Weight Item_Fat_Content  Item_Visibility    Item_Type  \\\n",
       "0           FDW58       20.750          Low Fat         0.007565  Snack Foods   \n",
       "1           FDW14        8.300              reg         0.038428        Dairy   \n",
       "2           NCN55       14.600          Low Fat         0.099575       Others   \n",
       "3           FDQ58        7.315          Low Fat         0.015388  Snack Foods   \n",
       "4           FDY38          NaN          Regular         0.118599        Dairy   \n",
       "\n",
       "   Item_MRP Outlet_Identifier  Outlet_Establishment_Year Outlet_Size  \\\n",
       "0  107.8622            OUT049                       1999      Medium   \n",
       "1   87.3198            OUT017                       2007         NaN   \n",
       "2  241.7538            OUT010                       1998         NaN   \n",
       "3  155.0340            OUT017                       2007         NaN   \n",
       "4  234.2300            OUT027                       1985      Medium   \n",
       "\n",
       "  Outlet_Location_Type        Outlet_Type  \n",
       "0               Tier 1  Supermarket Type1  \n",
       "1               Tier 2  Supermarket Type1  \n",
       "2               Tier 3      Grocery Store  \n",
       "3               Tier 2  Supermarket Type1  \n",
       "4               Tier 3  Supermarket Type3  "
      ]
     },
     "execution_count": 4,
     "metadata": {},
     "output_type": "execute_result"
    }
   ],
   "source": [
    "test.head()"
   ]
  },
  {
   "cell_type": "code",
   "execution_count": 5,
   "id": "3c29f3d9",
   "metadata": {},
   "outputs": [],
   "source": [
    "train['source'] = 'train'\n",
    "test['source'] = 'test'\n",
    "data = pd.concat([train, test], ignore_index=True)"
   ]
  },
  {
   "cell_type": "code",
   "execution_count": 6,
   "id": "eb509331",
   "metadata": {},
   "outputs": [
    {
     "data": {
      "text/plain": [
       "((8523, 13), (5681, 12), (14204, 13))"
      ]
     },
     "execution_count": 6,
     "metadata": {},
     "output_type": "execute_result"
    }
   ],
   "source": [
    "train.shape, test.shape, data.shape"
   ]
  },
  {
   "cell_type": "code",
   "execution_count": 7,
   "id": "16876585",
   "metadata": {},
   "outputs": [
    {
     "name": "stdout",
     "output_type": "stream",
     "text": [
      "<class 'pandas.core.frame.DataFrame'>\n",
      "RangeIndex: 14204 entries, 0 to 14203\n",
      "Data columns (total 13 columns):\n",
      " #   Column                     Non-Null Count  Dtype  \n",
      "---  ------                     --------------  -----  \n",
      " 0   Item_Identifier            14204 non-null  object \n",
      " 1   Item_Weight                11765 non-null  float64\n",
      " 2   Item_Fat_Content           14204 non-null  object \n",
      " 3   Item_Visibility            14204 non-null  float64\n",
      " 4   Item_Type                  14204 non-null  object \n",
      " 5   Item_MRP                   14204 non-null  float64\n",
      " 6   Outlet_Identifier          14204 non-null  object \n",
      " 7   Outlet_Establishment_Year  14204 non-null  int64  \n",
      " 8   Outlet_Size                10188 non-null  object \n",
      " 9   Outlet_Location_Type       14204 non-null  object \n",
      " 10  Outlet_Type                14204 non-null  object \n",
      " 11  Item_Outlet_Sales          8523 non-null   float64\n",
      " 12  source                     14204 non-null  object \n",
      "dtypes: float64(4), int64(1), object(8)\n",
      "memory usage: 1.4+ MB\n"
     ]
    }
   ],
   "source": [
    "data.info()"
   ]
  },
  {
   "cell_type": "code",
   "execution_count": 8,
   "id": "fcf955cd",
   "metadata": {},
   "outputs": [
    {
     "data": {
      "text/plain": [
       "Item_Identifier                 0\n",
       "Item_Weight                  2439\n",
       "Item_Fat_Content                0\n",
       "Item_Visibility                 0\n",
       "Item_Type                       0\n",
       "Item_MRP                        0\n",
       "Outlet_Identifier               0\n",
       "Outlet_Establishment_Year       0\n",
       "Outlet_Size                  4016\n",
       "Outlet_Location_Type            0\n",
       "Outlet_Type                     0\n",
       "Item_Outlet_Sales            5681\n",
       "source                          0\n",
       "dtype: int64"
      ]
     },
     "execution_count": 8,
     "metadata": {},
     "output_type": "execute_result"
    }
   ],
   "source": [
    "data.isna().sum()"
   ]
  },
  {
   "cell_type": "code",
   "execution_count": 9,
   "id": "9167cd4d",
   "metadata": {},
   "outputs": [
    {
     "data": {
      "text/html": [
       "<div>\n",
       "<style scoped>\n",
       "    .dataframe tbody tr th:only-of-type {\n",
       "        vertical-align: middle;\n",
       "    }\n",
       "\n",
       "    .dataframe tbody tr th {\n",
       "        vertical-align: top;\n",
       "    }\n",
       "\n",
       "    .dataframe thead th {\n",
       "        text-align: right;\n",
       "    }\n",
       "</style>\n",
       "<table border=\"1\" class=\"dataframe\">\n",
       "  <thead>\n",
       "    <tr style=\"text-align: right;\">\n",
       "      <th></th>\n",
       "      <th>Item_Weight</th>\n",
       "      <th>Item_Visibility</th>\n",
       "      <th>Item_MRP</th>\n",
       "      <th>Outlet_Establishment_Year</th>\n",
       "      <th>Item_Outlet_Sales</th>\n",
       "    </tr>\n",
       "  </thead>\n",
       "  <tbody>\n",
       "    <tr>\n",
       "      <th>count</th>\n",
       "      <td>11765.000000</td>\n",
       "      <td>14204.000000</td>\n",
       "      <td>14204.000000</td>\n",
       "      <td>14204.000000</td>\n",
       "      <td>8523.000000</td>\n",
       "    </tr>\n",
       "    <tr>\n",
       "      <th>mean</th>\n",
       "      <td>12.792854</td>\n",
       "      <td>0.065953</td>\n",
       "      <td>141.004977</td>\n",
       "      <td>1997.830681</td>\n",
       "      <td>2181.288914</td>\n",
       "    </tr>\n",
       "    <tr>\n",
       "      <th>std</th>\n",
       "      <td>4.652502</td>\n",
       "      <td>0.051459</td>\n",
       "      <td>62.086938</td>\n",
       "      <td>8.371664</td>\n",
       "      <td>1706.499616</td>\n",
       "    </tr>\n",
       "    <tr>\n",
       "      <th>min</th>\n",
       "      <td>4.555000</td>\n",
       "      <td>0.000000</td>\n",
       "      <td>31.290000</td>\n",
       "      <td>1985.000000</td>\n",
       "      <td>33.290000</td>\n",
       "    </tr>\n",
       "    <tr>\n",
       "      <th>25%</th>\n",
       "      <td>8.710000</td>\n",
       "      <td>0.027036</td>\n",
       "      <td>94.012000</td>\n",
       "      <td>1987.000000</td>\n",
       "      <td>834.247400</td>\n",
       "    </tr>\n",
       "    <tr>\n",
       "      <th>50%</th>\n",
       "      <td>12.600000</td>\n",
       "      <td>0.054021</td>\n",
       "      <td>142.247000</td>\n",
       "      <td>1999.000000</td>\n",
       "      <td>1794.331000</td>\n",
       "    </tr>\n",
       "    <tr>\n",
       "      <th>75%</th>\n",
       "      <td>16.750000</td>\n",
       "      <td>0.094037</td>\n",
       "      <td>185.855600</td>\n",
       "      <td>2004.000000</td>\n",
       "      <td>3101.296400</td>\n",
       "    </tr>\n",
       "    <tr>\n",
       "      <th>max</th>\n",
       "      <td>21.350000</td>\n",
       "      <td>0.328391</td>\n",
       "      <td>266.888400</td>\n",
       "      <td>2009.000000</td>\n",
       "      <td>13086.964800</td>\n",
       "    </tr>\n",
       "  </tbody>\n",
       "</table>\n",
       "</div>"
      ],
      "text/plain": [
       "        Item_Weight  Item_Visibility      Item_MRP  Outlet_Establishment_Year  \\\n",
       "count  11765.000000     14204.000000  14204.000000               14204.000000   \n",
       "mean      12.792854         0.065953    141.004977                1997.830681   \n",
       "std        4.652502         0.051459     62.086938                   8.371664   \n",
       "min        4.555000         0.000000     31.290000                1985.000000   \n",
       "25%        8.710000         0.027036     94.012000                1987.000000   \n",
       "50%       12.600000         0.054021    142.247000                1999.000000   \n",
       "75%       16.750000         0.094037    185.855600                2004.000000   \n",
       "max       21.350000         0.328391    266.888400                2009.000000   \n",
       "\n",
       "       Item_Outlet_Sales  \n",
       "count        8523.000000  \n",
       "mean         2181.288914  \n",
       "std          1706.499616  \n",
       "min            33.290000  \n",
       "25%           834.247400  \n",
       "50%          1794.331000  \n",
       "75%          3101.296400  \n",
       "max         13086.964800  "
      ]
     },
     "execution_count": 9,
     "metadata": {},
     "output_type": "execute_result"
    }
   ],
   "source": [
    "data.describe()"
   ]
  },
  {
   "cell_type": "code",
   "execution_count": 10,
   "id": "7fad376d",
   "metadata": {},
   "outputs": [
    {
     "data": {
      "text/plain": [
       "Item_Identifier               1559\n",
       "Item_Weight                    415\n",
       "Item_Fat_Content                 5\n",
       "Item_Visibility              13006\n",
       "Item_Type                       16\n",
       "Item_MRP                      8052\n",
       "Outlet_Identifier               10\n",
       "Outlet_Establishment_Year        9\n",
       "Outlet_Size                      3\n",
       "Outlet_Location_Type             3\n",
       "Outlet_Type                      4\n",
       "Item_Outlet_Sales             3493\n",
       "source                           2\n",
       "dtype: int64"
      ]
     },
     "execution_count": 10,
     "metadata": {},
     "output_type": "execute_result"
    }
   ],
   "source": [
    "data.nunique()"
   ]
  },
  {
   "cell_type": "code",
   "execution_count": 11,
   "id": "34058ac3",
   "metadata": {},
   "outputs": [
    {
     "data": {
      "text/plain": [
       "dtype('O')"
      ]
     },
     "execution_count": 11,
     "metadata": {},
     "output_type": "execute_result"
    }
   ],
   "source": [
    "data.source.dtype"
   ]
  },
  {
   "cell_type": "code",
   "execution_count": 12,
   "id": "b375fff6",
   "metadata": {},
   "outputs": [
    {
     "name": "stdout",
     "output_type": "stream",
     "text": [
      "Low Fat    8485\n",
      "Regular    4824\n",
      "LF          522\n",
      "reg         195\n",
      "low fat     178\n",
      "Name: Item_Fat_Content, dtype: int64 \n",
      "\n",
      "Fruits and Vegetables    2013\n",
      "Snack Foods              1989\n",
      "Household                1548\n",
      "Frozen Foods             1426\n",
      "Dairy                    1136\n",
      "Baking Goods             1086\n",
      "Canned                   1084\n",
      "Health and Hygiene        858\n",
      "Meat                      736\n",
      "Soft Drinks               726\n",
      "Breads                    416\n",
      "Hard Drinks               362\n",
      "Others                    280\n",
      "Starchy Foods             269\n",
      "Breakfast                 186\n",
      "Seafood                    89\n",
      "Name: Item_Type, dtype: int64 \n",
      "\n",
      "Medium    4655\n",
      "Small     3980\n",
      "High      1553\n",
      "Name: Outlet_Size, dtype: int64 \n",
      "\n",
      "Tier 3    5583\n",
      "Tier 2    4641\n",
      "Tier 1    3980\n",
      "Name: Outlet_Location_Type, dtype: int64 \n",
      "\n",
      "Supermarket Type1    9294\n",
      "Grocery Store        1805\n",
      "Supermarket Type3    1559\n",
      "Supermarket Type2    1546\n",
      "Name: Outlet_Type, dtype: int64 \n",
      "\n"
     ]
    }
   ],
   "source": [
    "columns = data.drop(columns=['Item_Identifier', \n",
    "                             'Outlet_Identifier', \n",
    "                             'source']).columns.values\n",
    "for col in columns:\n",
    "    if data[col].dtypes == 'O':\n",
    "        print(data[col].value_counts(),'\\n')"
   ]
  },
  {
   "cell_type": "markdown",
   "id": "d61c9c1f",
   "metadata": {},
   "source": [
    "## Data cleaning"
   ]
  },
  {
   "cell_type": "code",
   "execution_count": 13,
   "id": "cac7eb86",
   "metadata": {},
   "outputs": [
    {
     "data": {
      "text/plain": [
       "0"
      ]
     },
     "execution_count": 13,
     "metadata": {},
     "output_type": "execute_result"
    }
   ],
   "source": [
    "# Checking duplication\n",
    "data.duplicated().sum()"
   ]
  },
  {
   "cell_type": "markdown",
   "id": "df5206bf",
   "metadata": {},
   "source": [
    "### Fill null values in Item_Weight"
   ]
  },
  {
   "cell_type": "code",
   "execution_count": 14,
   "id": "703eff43",
   "metadata": {},
   "outputs": [
    {
     "data": {
      "text/plain": [
       "0"
      ]
     },
     "execution_count": 14,
     "metadata": {},
     "output_type": "execute_result"
    }
   ],
   "source": [
    "# Checking whether an item has different weights across all stores\n",
    "(data.groupby('Item_Identifier').Item_Weight.nunique() > 1).sum()"
   ]
  },
  {
   "cell_type": "code",
   "execution_count": 15,
   "id": "3ba3a093",
   "metadata": {
    "scrolled": true
   },
   "outputs": [
    {
     "data": {
      "text/plain": [
       "Item_Identifier\n",
       "DRA12     [11.6]\n",
       "DRA24    [19.35]\n",
       "DRA59     [8.27]\n",
       "DRB01     [7.39]\n",
       "DRB13    [6.115]\n",
       "          ...   \n",
       "NCZ30     [6.59]\n",
       "NCZ41    [19.85]\n",
       "NCZ42     [10.5]\n",
       "NCZ53      [9.6]\n",
       "NCZ54    [14.65]\n",
       "Name: Item_Weight, Length: 1559, dtype: object"
      ]
     },
     "execution_count": 15,
     "metadata": {},
     "output_type": "execute_result"
    }
   ],
   "source": [
    "Item_weight = data[data.Item_Weight.isna()==False].groupby('Item_Identifier').Item_Weight.unique()\n",
    "Item_weight"
   ]
  },
  {
   "cell_type": "code",
   "execution_count": 16,
   "id": "873a8197",
   "metadata": {},
   "outputs": [],
   "source": [
    "def weight(item):\n",
    "    return Item_weight[item][0]"
   ]
  },
  {
   "cell_type": "code",
   "execution_count": 17,
   "id": "5f625f05",
   "metadata": {},
   "outputs": [
    {
     "data": {
      "text/plain": [
       "0"
      ]
     },
     "execution_count": 17,
     "metadata": {},
     "output_type": "execute_result"
    }
   ],
   "source": [
    "data.loc[data.Item_Weight.isna()==True, 'Item_Weight'] = data.loc[data.Item_Weight.isna()==True, 'Item_Identifier'].apply(weight)\n",
    "data.Item_Weight.isna().sum()"
   ]
  },
  {
   "cell_type": "markdown",
   "id": "640c3508",
   "metadata": {},
   "source": [
    "### Fill null values in Outlet_Size"
   ]
  },
  {
   "cell_type": "code",
   "execution_count": 18,
   "id": "d987a4e9",
   "metadata": {},
   "outputs": [
    {
     "data": {
      "text/plain": [
       "Outlet_Type\n",
       "Grocery Store         Small\n",
       "Supermarket Type1     Small\n",
       "Supermarket Type2    Medium\n",
       "Supermarket Type3    Medium\n",
       "Name: Outlet_Size, dtype: object"
      ]
     },
     "execution_count": 18,
     "metadata": {},
     "output_type": "execute_result"
    }
   ],
   "source": [
    "mode = data.groupby(['Outlet_Type']).Outlet_Size.agg(pd.Series.mode)\n",
    "mode"
   ]
  },
  {
   "cell_type": "code",
   "execution_count": 19,
   "id": "bf58acc6",
   "metadata": {},
   "outputs": [
    {
     "data": {
      "text/plain": [
       "Outlet_Identifier  Outlet_Size\n",
       "OUT013             High           1553\n",
       "OUT035             Small          1550\n",
       "OUT046             Small          1550\n",
       "OUT049             Medium         1550\n",
       "Name: Outlet_Size, dtype: int64"
      ]
     },
     "execution_count": 19,
     "metadata": {},
     "output_type": "execute_result"
    }
   ],
   "source": [
    "# For checking: Supermarket Type 1 before filling null values\n",
    "data[data.Outlet_Type=='Supermarket Type1'].groupby(['Outlet_Identifier']).Outlet_Size.value_counts()"
   ]
  },
  {
   "cell_type": "code",
   "execution_count": 20,
   "id": "76edc914",
   "metadata": {},
   "outputs": [],
   "source": [
    "data.loc[data.Outlet_Size.isna()==True, 'Outlet_Size'] = data.loc[data.Outlet_Size.isna()==True, 'Outlet_Type'].apply(lambda x: mode[x])\n"
   ]
  },
  {
   "cell_type": "code",
   "execution_count": 21,
   "id": "74779de3",
   "metadata": {},
   "outputs": [
    {
     "data": {
      "text/plain": [
       "Outlet_Identifier  Outlet_Size\n",
       "OUT013             High           1553\n",
       "OUT017             Small          1543\n",
       "OUT035             Small          1550\n",
       "OUT045             Small          1548\n",
       "OUT046             Small          1550\n",
       "OUT049             Medium         1550\n",
       "Name: Outlet_Size, dtype: int64"
      ]
     },
     "execution_count": 21,
     "metadata": {},
     "output_type": "execute_result"
    }
   ],
   "source": [
    "# For checking: Supermarket Type 1 after filling null values\n",
    "data[data.Outlet_Type=='Supermarket Type1'].groupby(['Outlet_Identifier']).Outlet_Size.value_counts()"
   ]
  },
  {
   "cell_type": "code",
   "execution_count": 22,
   "id": "936b0864",
   "metadata": {},
   "outputs": [
    {
     "data": {
      "text/plain": [
       "0"
      ]
     },
     "execution_count": 22,
     "metadata": {},
     "output_type": "execute_result"
    }
   ],
   "source": [
    "data.Outlet_Size.isna().sum()"
   ]
  },
  {
   "cell_type": "markdown",
   "id": "5c9b2062",
   "metadata": {},
   "source": [
    "### Adjusting Item_Visibility"
   ]
  },
  {
   "cell_type": "code",
   "execution_count": 23,
   "id": "d87b392b",
   "metadata": {},
   "outputs": [
    {
     "data": {
      "text/plain": [
       "879"
      ]
     },
     "execution_count": 23,
     "metadata": {},
     "output_type": "execute_result"
    }
   ],
   "source": [
    "(data.Item_Visibility == 0).sum()"
   ]
  },
  {
   "cell_type": "code",
   "execution_count": 24,
   "id": "54e922cd",
   "metadata": {},
   "outputs": [
    {
     "data": {
      "text/plain": [
       "Item_Identifier\n",
       "DRA12    0.034938\n",
       "DRA24    0.045646\n",
       "DRA59    0.133384\n",
       "DRB01    0.079736\n",
       "DRB13    0.006799\n",
       "           ...   \n",
       "NCZ30    0.027302\n",
       "NCZ41    0.056396\n",
       "NCZ42    0.011015\n",
       "NCZ53    0.026330\n",
       "NCZ54    0.081345\n",
       "Name: Item_Visibility, Length: 1559, dtype: float64"
      ]
     },
     "execution_count": 24,
     "metadata": {},
     "output_type": "execute_result"
    }
   ],
   "source": [
    "# Average item visibility per item ID\n",
    "avg_visi = data.groupby('Item_Identifier').Item_Visibility.mean()\n",
    "avg_visi"
   ]
  },
  {
   "cell_type": "code",
   "execution_count": 25,
   "id": "d14ec0c3",
   "metadata": {},
   "outputs": [
    {
     "data": {
      "text/plain": [
       "0"
      ]
     },
     "execution_count": 25,
     "metadata": {},
     "output_type": "execute_result"
    }
   ],
   "source": [
    "data.loc[data.Item_Visibility == 0, 'Item_Visibility'] = data.loc[data.Item_Visibility == 0, 'Item_Identifier'].apply(lambda x: avg_visi[x])\n",
    "(data.Item_Visibility == 0).sum()"
   ]
  },
  {
   "cell_type": "markdown",
   "id": "20d19ddf",
   "metadata": {},
   "source": [
    "## Feature engineering"
   ]
  },
  {
   "cell_type": "markdown",
   "id": "9a6a8e8f",
   "metadata": {},
   "source": [
    "### Creating Visibility ratio"
   ]
  },
  {
   "cell_type": "code",
   "execution_count": 26,
   "id": "58418624",
   "metadata": {},
   "outputs": [
    {
     "data": {
      "text/plain": [
       "count    14204.000000\n",
       "mean         1.061884\n",
       "std          0.235907\n",
       "min          0.844563\n",
       "25%          0.925131\n",
       "50%          0.999070\n",
       "75%          1.042007\n",
       "max          3.010094\n",
       "Name: Item_Visibility_MeanRatio, dtype: float64"
      ]
     },
     "execution_count": 26,
     "metadata": {},
     "output_type": "execute_result"
    }
   ],
   "source": [
    "# The visibility of an item in a particular store \n",
    "# as compared to the mean visibility of that item across all stores\n",
    "# showing how much important the item is to that store as compared to other stores\n",
    "\n",
    "data['Item_Visibility_MeanRatio'] = data.apply(lambda x: x['Item_Visibility']/avg_visi[x['Item_Identifier']], axis=1)\n",
    "data['Item_Visibility_MeanRatio'].describe()"
   ]
  },
  {
   "cell_type": "markdown",
   "id": "db35b555",
   "metadata": {},
   "source": [
    "### Grouping Item_Type"
   ]
  },
  {
   "cell_type": "code",
   "execution_count": 27,
   "id": "5c4143f1",
   "metadata": {},
   "outputs": [
    {
     "data": {
      "text/plain": [
       "Other food        10201\n",
       "Non-consumable     2686\n",
       "Drink              1317\n",
       "Name: Item_Group, dtype: int64"
      ]
     },
     "execution_count": 27,
     "metadata": {},
     "output_type": "execute_result"
    }
   ],
   "source": [
    "data['Item_Group'] = data.Item_Identifier.str[0:2]\n",
    "data['Item_Group'] = data['Item_Group'].map({'FD': 'Other food',\n",
    "                                             'DR': 'Drink',\n",
    "                                             'NC': 'Non-consumable'})\n",
    "data.Item_Group.value_counts()"
   ]
  },
  {
   "cell_type": "code",
   "execution_count": 28,
   "id": "1565775d",
   "metadata": {},
   "outputs": [
    {
     "data": {
      "text/plain": [
       "array(['Dairy', 'Soft Drinks', 'Meat', 'Fruits and Vegetables',\n",
       "       'Household', 'Baking Goods', 'Snack Foods', 'Frozen Foods',\n",
       "       'Breakfast', 'Health and Hygiene', 'Hard Drinks', 'Canned',\n",
       "       'Breads', 'Starchy Foods', 'Others', 'Seafood'], dtype=object)"
      ]
     },
     "execution_count": 28,
     "metadata": {},
     "output_type": "execute_result"
    }
   ],
   "source": [
    "data.Item_Type.unique()"
   ]
  },
  {
   "cell_type": "code",
   "execution_count": 29,
   "id": "f3d023a5",
   "metadata": {},
   "outputs": [],
   "source": [
    "Freshfood = ['Meat', 'Fruits and Vegetables', 'Breakfast', 'Seafood', 'Breads']\n",
    "Storedfood = ['Dairy', 'Snack Foods', 'Frozen Foods', 'Canned', 'Starchy Foods']"
   ]
  },
  {
   "cell_type": "code",
   "execution_count": 30,
   "id": "73f063a3",
   "metadata": {},
   "outputs": [],
   "source": [
    "def group(row):\n",
    "    if row['Item_Type'] in Freshfood:\n",
    "        return 'Fresh food'\n",
    "    elif row['Item_Type'] in Storedfood:\n",
    "        return 'Stored food'\n",
    "    else:\n",
    "        return row['Item_Group']"
   ]
  },
  {
   "cell_type": "code",
   "execution_count": 31,
   "id": "02e593de",
   "metadata": {
    "scrolled": true
   },
   "outputs": [
    {
     "data": {
      "text/plain": [
       "Stored food       5904\n",
       "Fresh food        3440\n",
       "Non-consumable    2686\n",
       "Drink             1088\n",
       "Other food        1086\n",
       "Name: Item_Group, dtype: int64"
      ]
     },
     "execution_count": 31,
     "metadata": {},
     "output_type": "execute_result"
    }
   ],
   "source": [
    "data['Item_Group'] = data.apply(group, axis=1)\n",
    "data.Item_Group.value_counts()"
   ]
  },
  {
   "cell_type": "markdown",
   "id": "96786774",
   "metadata": {},
   "source": [
    "### Formating Item_Fat_Content"
   ]
  },
  {
   "cell_type": "code",
   "execution_count": 32,
   "id": "80a2a616",
   "metadata": {},
   "outputs": [],
   "source": [
    "def formatting(row):\n",
    "    if row == 'LF' or row == 'low fat':\n",
    "        return 'Low Fat'\n",
    "    elif row == 'reg':\n",
    "        return 'Regular'\n",
    "    else:\n",
    "        return  row"
   ]
  },
  {
   "cell_type": "code",
   "execution_count": 33,
   "id": "4fe4c2ba",
   "metadata": {},
   "outputs": [
    {
     "data": {
      "text/plain": [
       "Low Fat    9185\n",
       "Regular    5019\n",
       "Name: Item_Fat_Content, dtype: int64"
      ]
     },
     "execution_count": 33,
     "metadata": {},
     "output_type": "execute_result"
    }
   ],
   "source": [
    "data['Item_Fat_Content'] = data.Item_Fat_Content.apply(formatting)\n",
    "data.Item_Fat_Content.value_counts()"
   ]
  },
  {
   "cell_type": "code",
   "execution_count": 34,
   "id": "e5717b66",
   "metadata": {},
   "outputs": [
    {
     "data": {
      "text/plain": [
       "Low Fat       6499\n",
       "Regular       5019\n",
       "Non-edible    2686\n",
       "Name: Item_Fat_Content, dtype: int64"
      ]
     },
     "execution_count": 34,
     "metadata": {},
     "output_type": "execute_result"
    }
   ],
   "source": [
    "data.loc[data.Item_Group == 'Non-consumable','Item_Fat_Content'] = 'Non-edible'\n",
    "data.Item_Fat_Content.value_counts()"
   ]
  },
  {
   "cell_type": "markdown",
   "id": "7a90242e",
   "metadata": {},
   "source": [
    "### Defining years of operation"
   ]
  },
  {
   "cell_type": "code",
   "execution_count": 35,
   "id": "b4325ab0",
   "metadata": {},
   "outputs": [
    {
     "data": {
      "text/plain": [
       "count    14204.000000\n",
       "mean        15.169319\n",
       "std          8.371664\n",
       "min          4.000000\n",
       "25%          9.000000\n",
       "50%         14.000000\n",
       "75%         26.000000\n",
       "max         28.000000\n",
       "Name: Outlet_Years, dtype: float64"
      ]
     },
     "execution_count": 35,
     "metadata": {},
     "output_type": "execute_result"
    }
   ],
   "source": [
    "data['Outlet_Years'] = 2013 - data['Outlet_Establishment_Year']\n",
    "data['Outlet_Years'].describe()"
   ]
  },
  {
   "cell_type": "markdown",
   "id": "4059741c",
   "metadata": {},
   "source": [
    "### Converting categorical variables to binary variables"
   ]
  },
  {
   "cell_type": "code",
   "execution_count": 36,
   "id": "863a2cd5",
   "metadata": {},
   "outputs": [],
   "source": [
    "from sklearn.preprocessing import LabelEncoder\n",
    "le = LabelEncoder()\n",
    "\n",
    "# Encode Outlet ID to labels,\n",
    "# add new columns - Outlet_Label to DataFrame\n",
    "data['Outlet_Label'] = le.fit_transform(data['Outlet_Identifier'])"
   ]
  },
  {
   "cell_type": "code",
   "execution_count": 37,
   "id": "02d5da3c",
   "metadata": {},
   "outputs": [
    {
     "data": {
      "text/plain": [
       "0        9\n",
       "1        3\n",
       "2        9\n",
       "3        0\n",
       "4        1\n",
       "        ..\n",
       "14199    8\n",
       "14200    3\n",
       "14201    7\n",
       "14202    2\n",
       "14203    7\n",
       "Name: Outlet_Label, Length: 14204, dtype: int64"
      ]
     },
     "execution_count": 37,
     "metadata": {},
     "output_type": "execute_result"
    }
   ],
   "source": [
    "data['Outlet_Label']"
   ]
  },
  {
   "cell_type": "code",
   "execution_count": 38,
   "id": "1fc26301",
   "metadata": {},
   "outputs": [],
   "source": [
    "# Encode categorical columns\n",
    "cate = ['Item_Fat_Content','Outlet_Location_Type','Outlet_Size','Item_Group','Outlet_Type']\n",
    "le = LabelEncoder()\n",
    "for col in cate:\n",
    "    data[col] = le.fit_transform(data[col])"
   ]
  },
  {
   "cell_type": "code",
   "execution_count": 39,
   "id": "f570774a",
   "metadata": {},
   "outputs": [
    {
     "data": {
      "text/html": [
       "<div>\n",
       "<style scoped>\n",
       "    .dataframe tbody tr th:only-of-type {\n",
       "        vertical-align: middle;\n",
       "    }\n",
       "\n",
       "    .dataframe tbody tr th {\n",
       "        vertical-align: top;\n",
       "    }\n",
       "\n",
       "    .dataframe thead th {\n",
       "        text-align: right;\n",
       "    }\n",
       "</style>\n",
       "<table border=\"1\" class=\"dataframe\">\n",
       "  <thead>\n",
       "    <tr style=\"text-align: right;\">\n",
       "      <th></th>\n",
       "      <th>Item_Identifier</th>\n",
       "      <th>Item_Weight</th>\n",
       "      <th>Item_Fat_Content</th>\n",
       "      <th>Item_Visibility</th>\n",
       "      <th>Item_Type</th>\n",
       "      <th>Item_MRP</th>\n",
       "      <th>Outlet_Identifier</th>\n",
       "      <th>Outlet_Establishment_Year</th>\n",
       "      <th>Outlet_Size</th>\n",
       "      <th>Outlet_Location_Type</th>\n",
       "      <th>Outlet_Type</th>\n",
       "      <th>Item_Outlet_Sales</th>\n",
       "      <th>source</th>\n",
       "      <th>Item_Visibility_MeanRatio</th>\n",
       "      <th>Item_Group</th>\n",
       "      <th>Outlet_Years</th>\n",
       "      <th>Outlet_Label</th>\n",
       "    </tr>\n",
       "  </thead>\n",
       "  <tbody>\n",
       "    <tr>\n",
       "      <th>0</th>\n",
       "      <td>FDA15</td>\n",
       "      <td>9.30</td>\n",
       "      <td>0</td>\n",
       "      <td>0.016047</td>\n",
       "      <td>Dairy</td>\n",
       "      <td>249.8092</td>\n",
       "      <td>OUT049</td>\n",
       "      <td>1999</td>\n",
       "      <td>1</td>\n",
       "      <td>0</td>\n",
       "      <td>1</td>\n",
       "      <td>3735.1380</td>\n",
       "      <td>train</td>\n",
       "      <td>0.931078</td>\n",
       "      <td>4</td>\n",
       "      <td>14</td>\n",
       "      <td>9</td>\n",
       "    </tr>\n",
       "    <tr>\n",
       "      <th>1</th>\n",
       "      <td>DRC01</td>\n",
       "      <td>5.92</td>\n",
       "      <td>2</td>\n",
       "      <td>0.019278</td>\n",
       "      <td>Soft Drinks</td>\n",
       "      <td>48.2692</td>\n",
       "      <td>OUT018</td>\n",
       "      <td>2009</td>\n",
       "      <td>1</td>\n",
       "      <td>2</td>\n",
       "      <td>2</td>\n",
       "      <td>443.4228</td>\n",
       "      <td>train</td>\n",
       "      <td>0.933420</td>\n",
       "      <td>0</td>\n",
       "      <td>4</td>\n",
       "      <td>3</td>\n",
       "    </tr>\n",
       "    <tr>\n",
       "      <th>2</th>\n",
       "      <td>FDN15</td>\n",
       "      <td>17.50</td>\n",
       "      <td>0</td>\n",
       "      <td>0.016760</td>\n",
       "      <td>Meat</td>\n",
       "      <td>141.6180</td>\n",
       "      <td>OUT049</td>\n",
       "      <td>1999</td>\n",
       "      <td>1</td>\n",
       "      <td>0</td>\n",
       "      <td>1</td>\n",
       "      <td>2097.2700</td>\n",
       "      <td>train</td>\n",
       "      <td>0.960069</td>\n",
       "      <td>1</td>\n",
       "      <td>14</td>\n",
       "      <td>9</td>\n",
       "    </tr>\n",
       "    <tr>\n",
       "      <th>3</th>\n",
       "      <td>FDX07</td>\n",
       "      <td>19.20</td>\n",
       "      <td>2</td>\n",
       "      <td>0.017834</td>\n",
       "      <td>Fruits and Vegetables</td>\n",
       "      <td>182.0950</td>\n",
       "      <td>OUT010</td>\n",
       "      <td>1998</td>\n",
       "      <td>2</td>\n",
       "      <td>2</td>\n",
       "      <td>0</td>\n",
       "      <td>732.3800</td>\n",
       "      <td>train</td>\n",
       "      <td>1.000000</td>\n",
       "      <td>1</td>\n",
       "      <td>15</td>\n",
       "      <td>0</td>\n",
       "    </tr>\n",
       "    <tr>\n",
       "      <th>4</th>\n",
       "      <td>NCD19</td>\n",
       "      <td>8.93</td>\n",
       "      <td>1</td>\n",
       "      <td>0.009780</td>\n",
       "      <td>Household</td>\n",
       "      <td>53.8614</td>\n",
       "      <td>OUT013</td>\n",
       "      <td>1987</td>\n",
       "      <td>0</td>\n",
       "      <td>2</td>\n",
       "      <td>1</td>\n",
       "      <td>994.7052</td>\n",
       "      <td>train</td>\n",
       "      <td>1.000000</td>\n",
       "      <td>2</td>\n",
       "      <td>26</td>\n",
       "      <td>1</td>\n",
       "    </tr>\n",
       "  </tbody>\n",
       "</table>\n",
       "</div>"
      ],
      "text/plain": [
       "  Item_Identifier  Item_Weight  Item_Fat_Content  Item_Visibility  \\\n",
       "0           FDA15         9.30                 0         0.016047   \n",
       "1           DRC01         5.92                 2         0.019278   \n",
       "2           FDN15        17.50                 0         0.016760   \n",
       "3           FDX07        19.20                 2         0.017834   \n",
       "4           NCD19         8.93                 1         0.009780   \n",
       "\n",
       "               Item_Type  Item_MRP Outlet_Identifier  \\\n",
       "0                  Dairy  249.8092            OUT049   \n",
       "1            Soft Drinks   48.2692            OUT018   \n",
       "2                   Meat  141.6180            OUT049   \n",
       "3  Fruits and Vegetables  182.0950            OUT010   \n",
       "4              Household   53.8614            OUT013   \n",
       "\n",
       "   Outlet_Establishment_Year  Outlet_Size  Outlet_Location_Type  Outlet_Type  \\\n",
       "0                       1999            1                     0            1   \n",
       "1                       2009            1                     2            2   \n",
       "2                       1999            1                     0            1   \n",
       "3                       1998            2                     2            0   \n",
       "4                       1987            0                     2            1   \n",
       "\n",
       "   Item_Outlet_Sales source  Item_Visibility_MeanRatio  Item_Group  \\\n",
       "0          3735.1380  train                   0.931078           4   \n",
       "1           443.4228  train                   0.933420           0   \n",
       "2          2097.2700  train                   0.960069           1   \n",
       "3           732.3800  train                   1.000000           1   \n",
       "4           994.7052  train                   1.000000           2   \n",
       "\n",
       "   Outlet_Years  Outlet_Label  \n",
       "0            14             9  \n",
       "1             4             3  \n",
       "2            14             9  \n",
       "3            15             0  \n",
       "4            26             1  "
      ]
     },
     "execution_count": 39,
     "metadata": {},
     "output_type": "execute_result"
    }
   ],
   "source": [
    "data.head()"
   ]
  },
  {
   "cell_type": "code",
   "execution_count": 40,
   "id": "6be2598e",
   "metadata": {},
   "outputs": [],
   "source": [
    "# Convert categorical variables to binary variables\n",
    "data = pd.get_dummies(data, columns=['Item_Fat_Content',\n",
    "                                     'Outlet_Location_Type',\n",
    "                                     'Outlet_Size',\n",
    "                                     'Outlet_Type',\n",
    "                                     'Item_Group',\n",
    "                                     'Outlet_Label'])"
   ]
  },
  {
   "cell_type": "code",
   "execution_count": 41,
   "id": "f504755d",
   "metadata": {},
   "outputs": [
    {
     "data": {
      "text/plain": [
       "Item_Identifier               object\n",
       "Item_Weight                  float64\n",
       "Item_Visibility              float64\n",
       "Item_Type                     object\n",
       "Item_MRP                     float64\n",
       "Outlet_Identifier             object\n",
       "Outlet_Establishment_Year      int64\n",
       "Item_Outlet_Sales            float64\n",
       "source                        object\n",
       "Item_Visibility_MeanRatio    float64\n",
       "Outlet_Years                   int64\n",
       "Item_Fat_Content_0             uint8\n",
       "Item_Fat_Content_1             uint8\n",
       "Item_Fat_Content_2             uint8\n",
       "Outlet_Location_Type_0         uint8\n",
       "Outlet_Location_Type_1         uint8\n",
       "Outlet_Location_Type_2         uint8\n",
       "Outlet_Size_0                  uint8\n",
       "Outlet_Size_1                  uint8\n",
       "Outlet_Size_2                  uint8\n",
       "Outlet_Type_0                  uint8\n",
       "Outlet_Type_1                  uint8\n",
       "Outlet_Type_2                  uint8\n",
       "Outlet_Type_3                  uint8\n",
       "Item_Group_0                   uint8\n",
       "Item_Group_1                   uint8\n",
       "Item_Group_2                   uint8\n",
       "Item_Group_3                   uint8\n",
       "Item_Group_4                   uint8\n",
       "Outlet_Label_0                 uint8\n",
       "Outlet_Label_1                 uint8\n",
       "Outlet_Label_2                 uint8\n",
       "Outlet_Label_3                 uint8\n",
       "Outlet_Label_4                 uint8\n",
       "Outlet_Label_5                 uint8\n",
       "Outlet_Label_6                 uint8\n",
       "Outlet_Label_7                 uint8\n",
       "Outlet_Label_8                 uint8\n",
       "Outlet_Label_9                 uint8\n",
       "dtype: object"
      ]
     },
     "execution_count": 41,
     "metadata": {},
     "output_type": "execute_result"
    }
   ],
   "source": [
    "data.dtypes"
   ]
  },
  {
   "cell_type": "markdown",
   "id": "0c2ca04c",
   "metadata": {},
   "source": [
    "### Exporting data for training"
   ]
  },
  {
   "cell_type": "code",
   "execution_count": 42,
   "id": "ae6e8798",
   "metadata": {},
   "outputs": [],
   "source": [
    "data = data.drop(columns=['Item_Type', 'Outlet_Establishment_Year'])\n",
    "\n",
    "train = data.loc[data['source']=='train']\n",
    "test = data.loc[data['source']=='test']\n",
    "\n",
    "train = train.drop(columns=['source'])\n",
    "test = test.drop(columns=['source', 'Item_Outlet_Sales'])\n",
    "\n",
    "train.to_csv(\"train_modified.csv\",index=False)\n",
    "test.to_csv(\"test_modified.csv\",index=False)"
   ]
  },
  {
   "cell_type": "markdown",
   "id": "f38b6d12",
   "metadata": {},
   "source": [
    "## Final data checking before training"
   ]
  },
  {
   "cell_type": "code",
   "execution_count": 43,
   "id": "aae17d5b",
   "metadata": {},
   "outputs": [
    {
     "data": {
      "text/html": [
       "<div>\n",
       "<style scoped>\n",
       "    .dataframe tbody tr th:only-of-type {\n",
       "        vertical-align: middle;\n",
       "    }\n",
       "\n",
       "    .dataframe tbody tr th {\n",
       "        vertical-align: top;\n",
       "    }\n",
       "\n",
       "    .dataframe thead th {\n",
       "        text-align: right;\n",
       "    }\n",
       "</style>\n",
       "<table border=\"1\" class=\"dataframe\">\n",
       "  <thead>\n",
       "    <tr style=\"text-align: right;\">\n",
       "      <th></th>\n",
       "      <th>Item_Weight</th>\n",
       "      <th>Item_Visibility</th>\n",
       "      <th>Item_MRP</th>\n",
       "      <th>Item_Outlet_Sales</th>\n",
       "      <th>Item_Visibility_MeanRatio</th>\n",
       "      <th>Outlet_Years</th>\n",
       "      <th>Item_Fat_Content_0</th>\n",
       "      <th>Item_Fat_Content_1</th>\n",
       "      <th>Item_Fat_Content_2</th>\n",
       "      <th>Outlet_Location_Type_0</th>\n",
       "      <th>...</th>\n",
       "      <th>Outlet_Label_0</th>\n",
       "      <th>Outlet_Label_1</th>\n",
       "      <th>Outlet_Label_2</th>\n",
       "      <th>Outlet_Label_3</th>\n",
       "      <th>Outlet_Label_4</th>\n",
       "      <th>Outlet_Label_5</th>\n",
       "      <th>Outlet_Label_6</th>\n",
       "      <th>Outlet_Label_7</th>\n",
       "      <th>Outlet_Label_8</th>\n",
       "      <th>Outlet_Label_9</th>\n",
       "    </tr>\n",
       "  </thead>\n",
       "  <tbody>\n",
       "    <tr>\n",
       "      <th>count</th>\n",
       "      <td>8523.000000</td>\n",
       "      <td>8523.000000</td>\n",
       "      <td>8523.000000</td>\n",
       "      <td>8523.000000</td>\n",
       "      <td>8523.000000</td>\n",
       "      <td>8523.000000</td>\n",
       "      <td>8523.000000</td>\n",
       "      <td>8523.000000</td>\n",
       "      <td>8523.000000</td>\n",
       "      <td>8523.000000</td>\n",
       "      <td>...</td>\n",
       "      <td>8523.000000</td>\n",
       "      <td>8523.000000</td>\n",
       "      <td>8523.000000</td>\n",
       "      <td>8523.000000</td>\n",
       "      <td>8523.000000</td>\n",
       "      <td>8523.000000</td>\n",
       "      <td>8523.000000</td>\n",
       "      <td>8523.000000</td>\n",
       "      <td>8523.000000</td>\n",
       "      <td>8523.000000</td>\n",
       "    </tr>\n",
       "    <tr>\n",
       "      <th>mean</th>\n",
       "      <td>12.873623</td>\n",
       "      <td>0.069941</td>\n",
       "      <td>140.992782</td>\n",
       "      <td>2181.288914</td>\n",
       "      <td>1.063028</td>\n",
       "      <td>15.168133</td>\n",
       "      <td>0.459697</td>\n",
       "      <td>0.187610</td>\n",
       "      <td>0.352693</td>\n",
       "      <td>0.280183</td>\n",
       "      <td>...</td>\n",
       "      <td>0.065118</td>\n",
       "      <td>0.109351</td>\n",
       "      <td>0.108647</td>\n",
       "      <td>0.108882</td>\n",
       "      <td>0.061950</td>\n",
       "      <td>0.109703</td>\n",
       "      <td>0.109117</td>\n",
       "      <td>0.108999</td>\n",
       "      <td>0.109117</td>\n",
       "      <td>0.109117</td>\n",
       "    </tr>\n",
       "    <tr>\n",
       "      <th>std</th>\n",
       "      <td>4.645893</td>\n",
       "      <td>0.049856</td>\n",
       "      <td>62.275067</td>\n",
       "      <td>1706.499616</td>\n",
       "      <td>0.239749</td>\n",
       "      <td>8.371760</td>\n",
       "      <td>0.498402</td>\n",
       "      <td>0.390423</td>\n",
       "      <td>0.477836</td>\n",
       "      <td>0.449115</td>\n",
       "      <td>...</td>\n",
       "      <td>0.246748</td>\n",
       "      <td>0.312098</td>\n",
       "      <td>0.311214</td>\n",
       "      <td>0.311509</td>\n",
       "      <td>0.241079</td>\n",
       "      <td>0.312538</td>\n",
       "      <td>0.311804</td>\n",
       "      <td>0.311656</td>\n",
       "      <td>0.311804</td>\n",
       "      <td>0.311804</td>\n",
       "    </tr>\n",
       "    <tr>\n",
       "      <th>min</th>\n",
       "      <td>4.555000</td>\n",
       "      <td>0.003575</td>\n",
       "      <td>31.290000</td>\n",
       "      <td>33.290000</td>\n",
       "      <td>0.850394</td>\n",
       "      <td>4.000000</td>\n",
       "      <td>0.000000</td>\n",
       "      <td>0.000000</td>\n",
       "      <td>0.000000</td>\n",
       "      <td>0.000000</td>\n",
       "      <td>...</td>\n",
       "      <td>0.000000</td>\n",
       "      <td>0.000000</td>\n",
       "      <td>0.000000</td>\n",
       "      <td>0.000000</td>\n",
       "      <td>0.000000</td>\n",
       "      <td>0.000000</td>\n",
       "      <td>0.000000</td>\n",
       "      <td>0.000000</td>\n",
       "      <td>0.000000</td>\n",
       "      <td>0.000000</td>\n",
       "    </tr>\n",
       "    <tr>\n",
       "      <th>25%</th>\n",
       "      <td>8.785000</td>\n",
       "      <td>0.031228</td>\n",
       "      <td>93.826500</td>\n",
       "      <td>834.247400</td>\n",
       "      <td>0.925131</td>\n",
       "      <td>9.000000</td>\n",
       "      <td>0.000000</td>\n",
       "      <td>0.000000</td>\n",
       "      <td>0.000000</td>\n",
       "      <td>0.000000</td>\n",
       "      <td>...</td>\n",
       "      <td>0.000000</td>\n",
       "      <td>0.000000</td>\n",
       "      <td>0.000000</td>\n",
       "      <td>0.000000</td>\n",
       "      <td>0.000000</td>\n",
       "      <td>0.000000</td>\n",
       "      <td>0.000000</td>\n",
       "      <td>0.000000</td>\n",
       "      <td>0.000000</td>\n",
       "      <td>0.000000</td>\n",
       "    </tr>\n",
       "    <tr>\n",
       "      <th>50%</th>\n",
       "      <td>12.600000</td>\n",
       "      <td>0.057249</td>\n",
       "      <td>143.012800</td>\n",
       "      <td>1794.331000</td>\n",
       "      <td>0.999070</td>\n",
       "      <td>14.000000</td>\n",
       "      <td>0.000000</td>\n",
       "      <td>0.000000</td>\n",
       "      <td>0.000000</td>\n",
       "      <td>0.000000</td>\n",
       "      <td>...</td>\n",
       "      <td>0.000000</td>\n",
       "      <td>0.000000</td>\n",
       "      <td>0.000000</td>\n",
       "      <td>0.000000</td>\n",
       "      <td>0.000000</td>\n",
       "      <td>0.000000</td>\n",
       "      <td>0.000000</td>\n",
       "      <td>0.000000</td>\n",
       "      <td>0.000000</td>\n",
       "      <td>0.000000</td>\n",
       "    </tr>\n",
       "    <tr>\n",
       "      <th>75%</th>\n",
       "      <td>16.850000</td>\n",
       "      <td>0.097383</td>\n",
       "      <td>185.643700</td>\n",
       "      <td>3101.296400</td>\n",
       "      <td>1.042001</td>\n",
       "      <td>26.000000</td>\n",
       "      <td>1.000000</td>\n",
       "      <td>0.000000</td>\n",
       "      <td>1.000000</td>\n",
       "      <td>1.000000</td>\n",
       "      <td>...</td>\n",
       "      <td>0.000000</td>\n",
       "      <td>0.000000</td>\n",
       "      <td>0.000000</td>\n",
       "      <td>0.000000</td>\n",
       "      <td>0.000000</td>\n",
       "      <td>0.000000</td>\n",
       "      <td>0.000000</td>\n",
       "      <td>0.000000</td>\n",
       "      <td>0.000000</td>\n",
       "      <td>0.000000</td>\n",
       "    </tr>\n",
       "    <tr>\n",
       "      <th>max</th>\n",
       "      <td>21.350000</td>\n",
       "      <td>0.328391</td>\n",
       "      <td>266.888400</td>\n",
       "      <td>13086.964800</td>\n",
       "      <td>3.010094</td>\n",
       "      <td>28.000000</td>\n",
       "      <td>1.000000</td>\n",
       "      <td>1.000000</td>\n",
       "      <td>1.000000</td>\n",
       "      <td>1.000000</td>\n",
       "      <td>...</td>\n",
       "      <td>1.000000</td>\n",
       "      <td>1.000000</td>\n",
       "      <td>1.000000</td>\n",
       "      <td>1.000000</td>\n",
       "      <td>1.000000</td>\n",
       "      <td>1.000000</td>\n",
       "      <td>1.000000</td>\n",
       "      <td>1.000000</td>\n",
       "      <td>1.000000</td>\n",
       "      <td>1.000000</td>\n",
       "    </tr>\n",
       "  </tbody>\n",
       "</table>\n",
       "<p>8 rows × 34 columns</p>\n",
       "</div>"
      ],
      "text/plain": [
       "       Item_Weight  Item_Visibility     Item_MRP  Item_Outlet_Sales  \\\n",
       "count  8523.000000      8523.000000  8523.000000        8523.000000   \n",
       "mean     12.873623         0.069941   140.992782        2181.288914   \n",
       "std       4.645893         0.049856    62.275067        1706.499616   \n",
       "min       4.555000         0.003575    31.290000          33.290000   \n",
       "25%       8.785000         0.031228    93.826500         834.247400   \n",
       "50%      12.600000         0.057249   143.012800        1794.331000   \n",
       "75%      16.850000         0.097383   185.643700        3101.296400   \n",
       "max      21.350000         0.328391   266.888400       13086.964800   \n",
       "\n",
       "       Item_Visibility_MeanRatio  Outlet_Years  Item_Fat_Content_0  \\\n",
       "count                8523.000000   8523.000000         8523.000000   \n",
       "mean                    1.063028     15.168133            0.459697   \n",
       "std                     0.239749      8.371760            0.498402   \n",
       "min                     0.850394      4.000000            0.000000   \n",
       "25%                     0.925131      9.000000            0.000000   \n",
       "50%                     0.999070     14.000000            0.000000   \n",
       "75%                     1.042001     26.000000            1.000000   \n",
       "max                     3.010094     28.000000            1.000000   \n",
       "\n",
       "       Item_Fat_Content_1  Item_Fat_Content_2  Outlet_Location_Type_0  ...  \\\n",
       "count         8523.000000         8523.000000             8523.000000  ...   \n",
       "mean             0.187610            0.352693                0.280183  ...   \n",
       "std              0.390423            0.477836                0.449115  ...   \n",
       "min              0.000000            0.000000                0.000000  ...   \n",
       "25%              0.000000            0.000000                0.000000  ...   \n",
       "50%              0.000000            0.000000                0.000000  ...   \n",
       "75%              0.000000            1.000000                1.000000  ...   \n",
       "max              1.000000            1.000000                1.000000  ...   \n",
       "\n",
       "       Outlet_Label_0  Outlet_Label_1  Outlet_Label_2  Outlet_Label_3  \\\n",
       "count     8523.000000     8523.000000     8523.000000     8523.000000   \n",
       "mean         0.065118        0.109351        0.108647        0.108882   \n",
       "std          0.246748        0.312098        0.311214        0.311509   \n",
       "min          0.000000        0.000000        0.000000        0.000000   \n",
       "25%          0.000000        0.000000        0.000000        0.000000   \n",
       "50%          0.000000        0.000000        0.000000        0.000000   \n",
       "75%          0.000000        0.000000        0.000000        0.000000   \n",
       "max          1.000000        1.000000        1.000000        1.000000   \n",
       "\n",
       "       Outlet_Label_4  Outlet_Label_5  Outlet_Label_6  Outlet_Label_7  \\\n",
       "count     8523.000000     8523.000000     8523.000000     8523.000000   \n",
       "mean         0.061950        0.109703        0.109117        0.108999   \n",
       "std          0.241079        0.312538        0.311804        0.311656   \n",
       "min          0.000000        0.000000        0.000000        0.000000   \n",
       "25%          0.000000        0.000000        0.000000        0.000000   \n",
       "50%          0.000000        0.000000        0.000000        0.000000   \n",
       "75%          0.000000        0.000000        0.000000        0.000000   \n",
       "max          1.000000        1.000000        1.000000        1.000000   \n",
       "\n",
       "       Outlet_Label_8  Outlet_Label_9  \n",
       "count     8523.000000     8523.000000  \n",
       "mean         0.109117        0.109117  \n",
       "std          0.311804        0.311804  \n",
       "min          0.000000        0.000000  \n",
       "25%          0.000000        0.000000  \n",
       "50%          0.000000        0.000000  \n",
       "75%          0.000000        0.000000  \n",
       "max          1.000000        1.000000  \n",
       "\n",
       "[8 rows x 34 columns]"
      ]
     },
     "execution_count": 43,
     "metadata": {},
     "output_type": "execute_result"
    }
   ],
   "source": [
    "train.describe()"
   ]
  },
  {
   "cell_type": "code",
   "execution_count": 44,
   "id": "13193bf8",
   "metadata": {},
   "outputs": [],
   "source": [
    "train.drop(columns=['Item_Identifier','Outlet_Identifier'], inplace=True)\n",
    "test.drop(columns=['Item_Identifier','Outlet_Identifier'], inplace=True)"
   ]
  },
  {
   "cell_type": "code",
   "execution_count": 45,
   "id": "558b1e4e",
   "metadata": {},
   "outputs": [
    {
     "name": "stdout",
     "output_type": "stream",
     "text": [
      "Item_Fat_Content_0\n",
      "0    4605\n",
      "1    3918\n",
      "Name: Item_Fat_Content_0, dtype: int64 \n",
      "\n",
      "Item_Fat_Content_1\n",
      "0    6924\n",
      "1    1599\n",
      "Name: Item_Fat_Content_1, dtype: int64 \n",
      "\n",
      "Item_Fat_Content_2\n",
      "0    5517\n",
      "1    3006\n",
      "Name: Item_Fat_Content_2, dtype: int64 \n",
      "\n",
      "Outlet_Location_Type_0\n",
      "0    6135\n",
      "1    2388\n",
      "Name: Outlet_Location_Type_0, dtype: int64 \n",
      "\n",
      "Outlet_Location_Type_1\n",
      "0    5738\n",
      "1    2785\n",
      "Name: Outlet_Location_Type_1, dtype: int64 \n",
      "\n",
      "Outlet_Location_Type_2\n",
      "0    5173\n",
      "1    3350\n",
      "Name: Outlet_Location_Type_2, dtype: int64 \n",
      "\n",
      "Outlet_Size_0\n",
      "0    7591\n",
      "1     932\n",
      "Name: Outlet_Size_0, dtype: int64 \n",
      "\n",
      "Outlet_Size_1\n",
      "0    5730\n",
      "1    2793\n",
      "Name: Outlet_Size_1, dtype: int64 \n",
      "\n",
      "Outlet_Size_2\n",
      "1    4798\n",
      "0    3725\n",
      "Name: Outlet_Size_2, dtype: int64 \n",
      "\n",
      "Outlet_Type_0\n",
      "0    7440\n",
      "1    1083\n",
      "Name: Outlet_Type_0, dtype: int64 \n",
      "\n",
      "Outlet_Type_1\n",
      "1    5577\n",
      "0    2946\n",
      "Name: Outlet_Type_1, dtype: int64 \n",
      "\n",
      "Outlet_Type_2\n",
      "0    7595\n",
      "1     928\n",
      "Name: Outlet_Type_2, dtype: int64 \n",
      "\n",
      "Outlet_Type_3\n",
      "0    7588\n",
      "1     935\n",
      "Name: Outlet_Type_3, dtype: int64 \n",
      "\n",
      "Item_Group_0\n",
      "0    7864\n",
      "1     659\n",
      "Name: Item_Group_0, dtype: int64 \n",
      "\n",
      "Item_Group_1\n",
      "0    6441\n",
      "1    2082\n",
      "Name: Item_Group_1, dtype: int64 \n",
      "\n",
      "Item_Group_2\n",
      "0    6924\n",
      "1    1599\n",
      "Name: Item_Group_2, dtype: int64 \n",
      "\n",
      "Item_Group_3\n",
      "0    7875\n",
      "1     648\n",
      "Name: Item_Group_3, dtype: int64 \n",
      "\n",
      "Item_Group_4\n",
      "0    4988\n",
      "1    3535\n",
      "Name: Item_Group_4, dtype: int64 \n",
      "\n",
      "Outlet_Label_0\n",
      "0    7968\n",
      "1     555\n",
      "Name: Outlet_Label_0, dtype: int64 \n",
      "\n",
      "Outlet_Label_1\n",
      "0    7591\n",
      "1     932\n",
      "Name: Outlet_Label_1, dtype: int64 \n",
      "\n",
      "Outlet_Label_2\n",
      "0    7597\n",
      "1     926\n",
      "Name: Outlet_Label_2, dtype: int64 \n",
      "\n",
      "Outlet_Label_3\n",
      "0    7595\n",
      "1     928\n",
      "Name: Outlet_Label_3, dtype: int64 \n",
      "\n",
      "Outlet_Label_4\n",
      "0    7995\n",
      "1     528\n",
      "Name: Outlet_Label_4, dtype: int64 \n",
      "\n",
      "Outlet_Label_5\n",
      "0    7588\n",
      "1     935\n",
      "Name: Outlet_Label_5, dtype: int64 \n",
      "\n",
      "Outlet_Label_6\n",
      "0    7593\n",
      "1     930\n",
      "Name: Outlet_Label_6, dtype: int64 \n",
      "\n",
      "Outlet_Label_7\n",
      "0    7594\n",
      "1     929\n",
      "Name: Outlet_Label_7, dtype: int64 \n",
      "\n",
      "Outlet_Label_8\n",
      "0    7593\n",
      "1     930\n",
      "Name: Outlet_Label_8, dtype: int64 \n",
      "\n",
      "Outlet_Label_9\n",
      "0    7593\n",
      "1     930\n",
      "Name: Outlet_Label_9, dtype: int64 \n",
      "\n"
     ]
    }
   ],
   "source": [
    "cate = train.iloc[:,6:]\n",
    "\n",
    "for col in cate.columns:\n",
    "    print(col)\n",
    "    print(cate[col].value_counts(), '\\n')"
   ]
  },
  {
   "cell_type": "code",
   "execution_count": 61,
   "id": "4f88fb0f",
   "metadata": {},
   "outputs": [
    {
     "data": {
      "image/png": "[encoded data removed]",
      "text/plain": [
       "<Figure size 1008x504 with 6 Axes>"
      ]
     },
     "metadata": {
      "needs_background": "light"
     },
     "output_type": "display_data"
    }
   ],
   "source": [
    "cols = ['Item_Weight', 'Item_Visibility', 'Item_Visibility_MeanRatio', 'Item_MRP', 'Outlet_Years', 'Item_Outlet_Sales']\n",
    "plot = train[cols]\n",
    "\n",
    "fig, axs = plt.subplots(ncols=6, nrows=1, figsize=(14, 7))\n",
    "index = 0\n",
    "axs = axs.flatten()\n",
    "for k,v in plot.items():\n",
    "    sns.boxplot(data=plot,\n",
    "                y=k,\n",
    "                ax=axs[index])\n",
    "    index += 1\n",
    "\n",
    "plt.tight_layout(pad=0.4, w_pad=0.5, h_pad=5.0)\n",
    "plt.savefig('BigMart_outliers_5.png', dpi=300,bbox_inches='tight')\n",
    "\n",
    "plt.show()"
   ]
  },
  {
   "cell_type": "code",
   "execution_count": 62,
   "id": "c0cccb18",
   "metadata": {},
   "outputs": [
    {
     "name": "stdout",
     "output_type": "stream",
     "text": [
      "Column Item_Weight outliers = 0.00%\n",
      "Column Item_Visibility outliers = 1.67%\n",
      "Column Item_Visibility_MeanRatio outliers = 14.27%\n",
      "Column Item_MRP outliers = 0.00%\n",
      "Column Outlet_Years outliers = 0.00%\n",
      "Column Item_Outlet_Sales outliers = 2.18%\n"
     ]
    }
   ],
   "source": [
    "for k, v in plot.items():\n",
    "  q1 = v.quantile(0.25)\n",
    "  q3 = v.quantile(0.75)\n",
    "  irq = q3 - q1\n",
    "  v_col = v[(v <= q1 - 1.5 * irq) | (v >= q3 + 1.5 * irq)]\n",
    "  perc = np.shape(v_col)[0] * 100.0 / np.shape(plot)[0]\n",
    "  print(\"Column %s outliers = %.2f%%\" % (k, perc))"
   ]
  },
  {
   "cell_type": "code",
   "execution_count": 63,
   "id": "c9c9c05c",
   "metadata": {},
   "outputs": [
    {
     "name": "stderr",
     "output_type": "stream",
     "text": [
      "/opt/anaconda3/lib/python3.9/site-packages/seaborn/distributions.py:2619: FutureWarning: `distplot` is a deprecated function and will be removed in a future version. Please adapt your code to use either `displot` (a figure-level function with similar flexibility) or `histplot` (an axes-level function for histograms).\n",
      "  warnings.warn(msg, FutureWarning)\n",
      "/opt/anaconda3/lib/python3.9/site-packages/seaborn/distributions.py:2619: FutureWarning: `distplot` is a deprecated function and will be removed in a future version. Please adapt your code to use either `displot` (a figure-level function with similar flexibility) or `histplot` (an axes-level function for histograms).\n",
      "  warnings.warn(msg, FutureWarning)\n",
      "/opt/anaconda3/lib/python3.9/site-packages/seaborn/distributions.py:2619: FutureWarning: `distplot` is a deprecated function and will be removed in a future version. Please adapt your code to use either `displot` (a figure-level function with similar flexibility) or `histplot` (an axes-level function for histograms).\n",
      "  warnings.warn(msg, FutureWarning)\n",
      "/opt/anaconda3/lib/python3.9/site-packages/seaborn/distributions.py:2619: FutureWarning: `distplot` is a deprecated function and will be removed in a future version. Please adapt your code to use either `displot` (a figure-level function with similar flexibility) or `histplot` (an axes-level function for histograms).\n",
      "  warnings.warn(msg, FutureWarning)\n",
      "/opt/anaconda3/lib/python3.9/site-packages/seaborn/distributions.py:2619: FutureWarning: `distplot` is a deprecated function and will be removed in a future version. Please adapt your code to use either `displot` (a figure-level function with similar flexibility) or `histplot` (an axes-level function for histograms).\n",
      "  warnings.warn(msg, FutureWarning)\n",
      "/opt/anaconda3/lib/python3.9/site-packages/seaborn/distributions.py:2619: FutureWarning: `distplot` is a deprecated function and will be removed in a future version. Please adapt your code to use either `displot` (a figure-level function with similar flexibility) or `histplot` (an axes-level function for histograms).\n",
      "  warnings.warn(msg, FutureWarning)\n"
     ]
    },
    {
     "data": {
      "text/plain": [
       "[]"
      ]
     },
     "execution_count": 63,
     "metadata": {},
     "output_type": "execute_result"
    },
    {
     "data": {
      "image/png": "[encoded data removed]",
      "text/plain": [
       "<Figure size 1440x720 with 6 Axes>"
      ]
     },
     "metadata": {
      "needs_background": "light"
     },
     "output_type": "display_data"
    }
   ],
   "source": [
    "fig, axs = plt.subplots(nrows=1, ncols=6, figsize=(20, 10))\n",
    "# fig.delaxes(axs[4,6])\n",
    "# fig.delaxes(axs[4,5])\n",
    "\n",
    "index = 0\n",
    "axs = axs.flatten()\n",
    "for k,v in plot.items():\n",
    "    sns.distplot(v, ax=axs[index])\n",
    "    index += 1\n",
    "plt.tight_layout(pad=0.4, w_pad=0.5, h_pad=5.0)\n",
    "plt.savefig('BigMart_distribution_5.png', dpi=300,bbox_inches='tight')\n",
    "plt.plot()"
   ]
  },
  {
   "cell_type": "code",
   "execution_count": 64,
   "id": "e8d8ab96",
   "metadata": {},
   "outputs": [
    {
     "data": {
      "image/png": "[encoded data removed]",
      "text/plain": [
       "<Figure size 720x720 with 2 Axes>"
      ]
     },
     "metadata": {
      "needs_background": "light"
     },
     "output_type": "display_data"
    }
   ],
   "source": [
    "# correlation of non-categorical variables with result\n",
    "\n",
    "cor = plot.corr(method='pearson')\n",
    "\n",
    "# select features that have high absolute correlation with output.\n",
    "fig, ax = plt.subplots(figsize=(10,10))         # Sample figsize in inches\n",
    "sns.heatmap(\n",
    "    cor, \n",
    "    vmin=-1, vmax=1, center=0,\n",
    "    cmap=sns.diverging_palette(240, 10, n=9),\n",
    "    square=True,\n",
    "    ax=ax,\n",
    "    annot=True\n",
    ")\n",
    "plt.savefig('BigMart_heat_5.png', dpi=300,bbox_inches='tight')"
   ]
  },
  {
   "cell_type": "code",
   "execution_count": 65,
   "id": "7d1a3225",
   "metadata": {},
   "outputs": [
    {
     "data": {
      "image/png": "[encoded data removed]",
      "text/plain": [
       "<Figure size 1080x720 with 5 Axes>"
      ]
     },
     "metadata": {
      "needs_background": "light"
     },
     "output_type": "display_data"
    }
   ],
   "source": [
    "from sklearn import preprocessing\n",
    "\n",
    "min_max_scaler = preprocessing.MinMaxScaler()\n",
    "col = ['Item_Weight', 'Item_Visibility', 'Item_Visibility_MeanRatio', 'Item_MRP', 'Outlet_Years']\n",
    "x = plot[col]\n",
    "y = plot['Item_Outlet_Sales']\n",
    "x = pd.DataFrame(data=min_max_scaler.fit_transform(x), columns=col)\n",
    "\n",
    "fig, axs = plt.subplots(nrows=2, ncols=3, figsize=(15, 10))\n",
    "fig.delaxes(axs[1,2])\n",
    "\n",
    "index = 0\n",
    "axs = axs.flatten()\n",
    "for i, k in enumerate(col):\n",
    "    sns.regplot(y=y, x=x[k], ax=axs[i])\n",
    "\n",
    "plt.tight_layout(pad=0.4, w_pad=0.5, h_pad=5.0)\n",
    "plt.savefig('BigMart_scatter_5.png', dpi=300,bbox_inches='tight')"
   ]
  }
 ],
 "metadata": {
  "kernelspec": {
   "display_name": "Python 3 (ipykernel)",
   "language": "python",
   "name": "python3"
  },
  "language_info": {
   "codemirror_mode": {
    "name": "ipython",
    "version": 3
   },
   "file_extension": ".py",
   "mimetype": "text/x-python",
   "name": "python",
   "nbconvert_exporter": "python",
   "pygments_lexer": "ipython3",
   "version": "3.9.7"
  }
 },
 "nbformat": 4,
 "nbformat_minor": 5
}
